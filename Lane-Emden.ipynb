{
 "cells": [
  {
   "cell_type": "code",
   "execution_count": 1,
   "metadata": {},
   "outputs": [],
   "source": [
    "from IPython.display import display, Math, Latex\n",
    "import numpy as np\n",
    "np.seterr(divide='ignore', invalid='ignore')\n",
    "\n",
    "%matplotlib inline\n",
    "import matplotlib\n",
    "import matplotlib.pyplot as plt"
   ]
  },
  {
   "cell_type": "code",
   "execution_count": 2,
   "metadata": {},
   "outputs": [
    {
     "name": "stdout",
     "output_type": "stream",
     "text": [
      "Lane-Emden Equation\n"
     ]
    },
    {
     "data": {
      "text/latex": [
       "$\\dfrac{\\text{d}}{\\text{d}\\xi}\\left( \\xi^2 \\dfrac{\\text{d}\\theta}{\\text{d}\\xi} \\right)=-\\xi^2\\theta^n$"
      ],
      "text/plain": [
       "<IPython.core.display.Latex object>"
      ]
     },
     "metadata": {},
     "output_type": "display_data"
    },
    {
     "name": "stdout",
     "output_type": "stream",
     "text": [
      "Separation of variables\n"
     ]
    },
    {
     "data": {
      "text/latex": [
       "$\\dfrac{\\text{d}y}{\\text{d}\\xi}=\\dfrac{z}{\\xi^2}$"
      ],
      "text/plain": [
       "<IPython.core.display.Latex object>"
      ]
     },
     "metadata": {},
     "output_type": "display_data"
    },
    {
     "data": {
      "text/latex": [
       "$\\dfrac{\\text{d}z}{\\text{d}\\xi}=-\\xi^2y^n$"
      ],
      "text/plain": [
       "<IPython.core.display.Latex object>"
      ]
     },
     "metadata": {},
     "output_type": "display_data"
    }
   ],
   "source": [
    "print('Lane-Emden Equation')\n",
    "display(Latex(r'$'\\\n",
    "              r'\\dfrac{\\text{d}}{\\text{d}\\xi}'\\\n",
    "              r'\\left( \\xi^2 \\dfrac{\\text{d}\\theta}{\\text{d}\\xi} \\right)'\\\n",
    "              r'='\\\n",
    "              r'-\\xi^2\\theta^n'\\\n",
    "              r'$'))\n",
    "\n",
    "print(\"Separation of variables\")\n",
    "display(Latex(r'$'\\\n",
    "              r'\\dfrac{\\text{d}y}{\\text{d}\\xi}'\\\n",
    "              r'='\\\n",
    "              r'\\dfrac{z}{\\xi^2}'\\\n",
    "              r'$'))\n",
    "display(Latex(r'$'\\\n",
    "              r'\\dfrac{\\text{d}z}{\\text{d}\\xi}'\\\n",
    "              r'='\\\n",
    "              r'-\\xi^2y^n'\\\n",
    "              r'$'))"
   ]
  },
  {
   "cell_type": "code",
   "execution_count": 3,
   "metadata": {},
   "outputs": [
    {
     "name": "stdout",
     "output_type": "stream",
     "text": [
      "[0.9999999983333333, -3.333333333333334e-13]\n"
     ]
    },
    {
     "data": {
      "image/png": "[encoded data removed]",
      "text/plain": [
       "<Figure size 432x288 with 1 Axes>"
      ]
     },
     "metadata": {
      "needs_background": "light"
     },
     "output_type": "display_data"
    }
   ],
   "source": [
    "def solveLaneEmden(log_delta_xi=-4, n=3):\n",
    "    delta_xi = 10**log_delta_xi\n",
    "    \n",
    "    # Inner boundary condition \n",
    "    y0 = 1 - delta_xi**2/6 \n",
    "    z0 = -delta_xi**3/3 \n",
    "    \n",
    "    print([y0, z0])\n",
    "    \n",
    "    ys  = [y0]\n",
    "    zs  = [z0]\n",
    "    xis = [delta_xi]\n",
    "    ycs = [y0]\n",
    "    zcs = [z0]\n",
    "    while True:\n",
    "        y  =  ys[len(ys)  - 1]\n",
    "        z  =  zs[len(zs)  - 1]\n",
    "        xi = xis[len(xis) - 1]\n",
    "        yc = ycs[len(ycs) - 1]\n",
    "        zc = zcs[len(zcs) - 1]\n",
    "        \n",
    "        ## Primitive method \n",
    "        yi = y + delta_xi * z/xi**2\n",
    "        zi = z + delta_xi * -xi**2*y**n\n",
    "        \n",
    "        ## Predictor-corrector technique \n",
    "        xii = xi + delta_xi\n",
    "        yci = yc + 1/2 * delta_xi * (z/xi**2 + zi/xii**2)\n",
    "        zci = zc + 1/2 * delta_xi * (-xi**2*y**n - xii**2*yi**n)\n",
    "        \n",
    "        # Outer boundary condition \n",
    "        if (yi < 1e-10 or yci < 1e-10): break\n",
    "        \n",
    "        xis += [xii]\n",
    "        ys  += [yi]\n",
    "        zs  += [zi]\n",
    "        ycs += [yci]\n",
    "        zcs += [zci]\n",
    "    \n",
    "    return (xis, ys, ycs)\n",
    "\n",
    "def plotLaneEmden(log_delta_xi=-4, n=3):\n",
    "    xis, ys, ycs = solveLaneEmden(log_delta_xi, n)\n",
    "    \n",
    "    xi2 = np.arange(0, np.sqrt(6), 1e-3)\n",
    "    plt.plot(xi2, 1-xi2**2/6, label='n = 0')\n",
    "    \n",
    "    xi2 = np.arange(0, np.pi, 1e-3)\n",
    "    plt.plot(xi2, np.sin(xi2)/xi2, label='n = 1')\n",
    "    \n",
    "    plt.plot(xis, ys,  'g',   label='n = '+str(n))\n",
    "    plt.plot(xis, ycs, 'k--', label='P-C')\n",
    "    \n",
    "    plt.legend(loc='best')\n",
    "    plt.xlabel(r'$\\xi$')\n",
    "    plt.ylabel(r'$\\theta$')\n",
    "    plt.grid()\n",
    "\n",
    "plotLaneEmden()"
   ]
  },
  {
   "cell_type": "code",
   "execution_count": 4,
   "metadata": {
    "scrolled": false
   },
   "outputs": [
    {
     "data": {
      "application/vnd.jupyter.widget-view+json": {
       "model_id": "08d228a336014735a87dd2b310141fde",
       "version_major": 2,
       "version_minor": 0
      },
      "text/plain": [
       "interactive(children=(FloatSlider(value=-2.0, continuous_update=False, description='log_delta_xi', max=0.1, mi…"
      ]
     },
     "metadata": {},
     "output_type": "display_data"
    }
   ],
   "source": [
    "from ipywidgets import interact, interactive, fixed, interact_manual, FloatSlider\n",
    "import ipywidgets as widgets\n",
    "\n",
    "interact(plotLaneEmden, \n",
    "         n=FloatSlider(min=0, max=4.99, step=0.01, value=3, continuous_update=False),\n",
    "         log_delta_xi=FloatSlider(min=-6, max=0.1, step=0.01, value=-2, continuous_update=False));"
   ]
  },
  {
   "cell_type": "code",
   "execution_count": null,
   "metadata": {},
   "outputs": [],
   "source": []
  }
 ],
 "metadata": {
  "kernelspec": {
   "display_name": "Python 3",
   "language": "python",
   "name": "python3"
  },
  "language_info": {
   "codemirror_mode": {
    "name": "ipython",
    "version": 3
   },
   "file_extension": ".py",
   "mimetype": "text/x-python",
   "name": "python",
   "nbconvert_exporter": "python",
   "pygments_lexer": "ipython3",
   "version": "3.7.0"
  }
 },
 "nbformat": 4,
 "nbformat_minor": 2
}
